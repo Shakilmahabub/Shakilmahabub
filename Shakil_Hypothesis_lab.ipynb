{
  "nbformat": 4,
  "nbformat_minor": 0,
  "metadata": {
    "colab": {
      "name": "Shakil-Hypothesis lab.ipynb",
      "provenance": [],
      "collapsed_sections": [],
      "authorship_tag": "ABX9TyPA380Kgd5GM6qUC5OF9JZ5",
      "include_colab_link": true
    },
    "kernelspec": {
      "name": "python3",
      "display_name": "Python 3"
    },
    "language_info": {
      "name": "python"
    }
  },
  "cells": [
    {
      "cell_type": "markdown",
      "metadata": {
        "id": "view-in-github",
        "colab_type": "text"
      },
      "source": [
        "<a href=\"https://colab.research.google.com/github/Shakilmahabub/Shakilmahabub/blob/main/Shakil_Hypothesis_lab.ipynb\" target=\"_parent\"><img src=\"https://colab.research.google.com/assets/colab-badge.svg\" alt=\"Open In Colab\"/></a>"
      ]
    },
    {
      "cell_type": "code",
      "metadata": {
        "id": "NI2IcQhBZX4b"
      },
      "source": [
        "import matplotlib.pyplot as plt\n",
        "import matplotlib.mlab as mlab\n",
        "import seaborn as sns\n",
        "import pandas as pd\n",
        "import numpy as np"
      ],
      "execution_count": null,
      "outputs": []
    },
    {
      "cell_type": "code",
      "metadata": {
        "colab": {
          "base_uri": "https://localhost:8080/",
          "height": 206
        },
        "id": "k8hv4XtPZkQb",
        "outputId": "f5069be1-385e-4672-eed5-01741a935b1b"
      },
      "source": [
        "url='https://raw.githubusercontent.com/FazlyRabbiBD/Data-Science-Book/master/data-diabetes.csv'\n",
        "df = pd.read_csv(url)\n",
        "df.head()"
      ],
      "execution_count": null,
      "outputs": [
        {
          "output_type": "execute_result",
          "data": {
            "text/html": [
              "<div>\n",
              "<style scoped>\n",
              "    .dataframe tbody tr th:only-of-type {\n",
              "        vertical-align: middle;\n",
              "    }\n",
              "\n",
              "    .dataframe tbody tr th {\n",
              "        vertical-align: top;\n",
              "    }\n",
              "\n",
              "    .dataframe thead th {\n",
              "        text-align: right;\n",
              "    }\n",
              "</style>\n",
              "<table border=\"1\" class=\"dataframe\">\n",
              "  <thead>\n",
              "    <tr style=\"text-align: right;\">\n",
              "      <th></th>\n",
              "      <th>glucose</th>\n",
              "      <th>bloodpressure</th>\n",
              "      <th>diabetes</th>\n",
              "    </tr>\n",
              "  </thead>\n",
              "  <tbody>\n",
              "    <tr>\n",
              "      <th>0</th>\n",
              "      <td>40</td>\n",
              "      <td>85</td>\n",
              "      <td>0</td>\n",
              "    </tr>\n",
              "    <tr>\n",
              "      <th>1</th>\n",
              "      <td>40</td>\n",
              "      <td>92</td>\n",
              "      <td>0</td>\n",
              "    </tr>\n",
              "    <tr>\n",
              "      <th>2</th>\n",
              "      <td>45</td>\n",
              "      <td>63</td>\n",
              "      <td>1</td>\n",
              "    </tr>\n",
              "    <tr>\n",
              "      <th>3</th>\n",
              "      <td>45</td>\n",
              "      <td>80</td>\n",
              "      <td>0</td>\n",
              "    </tr>\n",
              "    <tr>\n",
              "      <th>4</th>\n",
              "      <td>40</td>\n",
              "      <td>73</td>\n",
              "      <td>1</td>\n",
              "    </tr>\n",
              "  </tbody>\n",
              "</table>\n",
              "</div>"
            ],
            "text/plain": [
              "   glucose  bloodpressure  diabetes\n",
              "0       40             85         0\n",
              "1       40             92         0\n",
              "2       45             63         1\n",
              "3       45             80         0\n",
              "4       40             73         1"
            ]
          },
          "metadata": {
            "tags": []
          },
          "execution_count": 4
        }
      ]
    },
    {
      "cell_type": "code",
      "metadata": {
        "colab": {
          "base_uri": "https://localhost:8080/"
        },
        "id": "nXMm8UVCZrEb",
        "outputId": "b8efe440-8a2a-4d87-eb7c-69729029e1de"
      },
      "source": [
        "#Help from Python\n",
        "from scipy.stats import shapiro\n",
        "\n",
        "DataToTest = df['bloodpressure']\n",
        "stat, p = shapiro(DataToTest)\n",
        "print('stat=%.6f, p=%.6f' % (stat, p))\n",
        "if p < 0.05:\n",
        "    print('Not a normal distribution/ H0 Rejected')   \n",
        "else:\n",
        "    print('Normal distribution/ H0 Accepted')"
      ],
      "execution_count": null,
      "outputs": [
        {
          "output_type": "stream",
          "text": [
            "stat=0.970822, p=0.000000\n",
            "Not a normal distribution/ H0 Rejected\n"
          ],
          "name": "stdout"
        }
      ]
    },
    {
      "cell_type": "code",
      "metadata": {
        "colab": {
          "base_uri": "https://localhost:8080/"
        },
        "id": "vWtMnh3QZydb",
        "outputId": "c7bba130-1fa0-475d-e469-f714fd45f203"
      },
      "source": [
        "# Example of the D'Agostino's K^2 Normality Test\n",
        "from scipy.stats import normaltest\n",
        "DataToTest = df['bloodpressure']\n",
        "\n",
        "stat, p = normaltest(DataToTest)\n",
        "print('stat=%.6f, p=%.6f' % (stat, p))\n",
        "if p < 0.05:\n",
        "    print('Not a normal distribution/ H0 Rejected')   \n",
        "else:\n",
        "    print('Normal distribution/ H0 Accepted')"
      ],
      "execution_count": null,
      "outputs": [
        {
          "output_type": "stream",
          "text": [
            "stat=101.061591, p=0.000000\n",
            "Not a normal distribution/ H0 Rejected\n"
          ],
          "name": "stdout"
        }
      ]
    },
    {
      "cell_type": "code",
      "metadata": {
        "colab": {
          "base_uri": "https://localhost:8080/"
        },
        "id": "zs9miqOIZ2oL",
        "outputId": "f085bd8c-960e-4643-87ba-b646155f374c"
      },
      "source": [
        "# Example of the Anderson-Darling Normality Test\n",
        "from scipy.stats import anderson\n",
        "result = anderson(df['glucose'])\n",
        "print('stat=%.6f, p=%.6f' % (stat, p))\n",
        "if p < 0.05:\n",
        "    print('Not a normal distribution/ H0 Rejected')   \n",
        "else:\n",
        "    print('Normal distribution/ H0 Accepted')"
      ],
      "execution_count": null,
      "outputs": [
        {
          "output_type": "stream",
          "text": [
            "stat=101.061591, p=0.000000\n",
            "Not a normal distribution/ H0 Rejected\n"
          ],
          "name": "stdout"
        }
      ]
    },
    {
      "cell_type": "code",
      "metadata": {
        "colab": {
          "base_uri": "https://localhost:8080/",
          "height": 143
        },
        "id": "q2SbgxqDZ9iD",
        "outputId": "44a3d08a-f94c-4117-a588-a87020e616cc"
      },
      "source": [
        "df.corr()"
      ],
      "execution_count": null,
      "outputs": [
        {
          "output_type": "execute_result",
          "data": {
            "text/html": [
              "<div>\n",
              "<style scoped>\n",
              "    .dataframe tbody tr th:only-of-type {\n",
              "        vertical-align: middle;\n",
              "    }\n",
              "\n",
              "    .dataframe tbody tr th {\n",
              "        vertical-align: top;\n",
              "    }\n",
              "\n",
              "    .dataframe thead th {\n",
              "        text-align: right;\n",
              "    }\n",
              "</style>\n",
              "<table border=\"1\" class=\"dataframe\">\n",
              "  <thead>\n",
              "    <tr style=\"text-align: right;\">\n",
              "      <th></th>\n",
              "      <th>glucose</th>\n",
              "      <th>bloodpressure</th>\n",
              "      <th>diabetes</th>\n",
              "    </tr>\n",
              "  </thead>\n",
              "  <tbody>\n",
              "    <tr>\n",
              "      <th>glucose</th>\n",
              "      <td>1.000000</td>\n",
              "      <td>-0.164553</td>\n",
              "      <td>0.031585</td>\n",
              "    </tr>\n",
              "    <tr>\n",
              "      <th>bloodpressure</th>\n",
              "      <td>-0.164553</td>\n",
              "      <td>1.000000</td>\n",
              "      <td>-0.808303</td>\n",
              "    </tr>\n",
              "    <tr>\n",
              "      <th>diabetes</th>\n",
              "      <td>0.031585</td>\n",
              "      <td>-0.808303</td>\n",
              "      <td>1.000000</td>\n",
              "    </tr>\n",
              "  </tbody>\n",
              "</table>\n",
              "</div>"
            ],
            "text/plain": [
              "                glucose  bloodpressure  diabetes\n",
              "glucose        1.000000      -0.164553  0.031585\n",
              "bloodpressure -0.164553       1.000000 -0.808303\n",
              "diabetes       0.031585      -0.808303  1.000000"
            ]
          },
          "metadata": {
            "tags": []
          },
          "execution_count": 8
        }
      ]
    },
    {
      "cell_type": "code",
      "metadata": {
        "colab": {
          "base_uri": "https://localhost:8080/"
        },
        "id": "3uui4J1KaDXz",
        "outputId": "111f5583-830d-40ee-f21c-ed85b23bf7eb"
      },
      "source": [
        "#pearson correlation\n",
        "from scipy.stats import pearsonr\n",
        "stat, p = pearsonr(df.bloodpressure, df.glucose)\n",
        "\n",
        "print('stat=%.6f, p=%9f' % (stat, p))\n",
        "\n",
        "if p < 0.05:\n",
        "    print('Variables are Dependent (Correlated)/ H0 Rejected')    \n",
        "else:\n",
        "    print('Variables are Independent (Not Correlated)/ H0 Accepted')"
      ],
      "execution_count": null,
      "outputs": [
        {
          "output_type": "stream",
          "text": [
            "stat=-0.164553, p= 0.000000\n",
            "Variables are Dependent (Correlated)/ H0 Rejected\n"
          ],
          "name": "stdout"
        }
      ]
    },
    {
      "cell_type": "code",
      "metadata": {
        "colab": {
          "base_uri": "https://localhost:8080/"
        },
        "id": "xA5W5ENPaKjL",
        "outputId": "1af0816a-8acc-46fa-d697-60099edf6863"
      },
      "source": [
        "#Spearman Rank Correlation\n",
        "from scipy.stats import spearmanr\n",
        "stat, p = spearmanr(df.bloodpressure, df.glucose)\n",
        "\n",
        "print('stat=%.6f, p=%6f' % (stat, p))\n",
        "if p < 0.05:\n",
        "    print('Variables are Dependent (Correlated)/ H0 Rejected')    \n",
        "else:\n",
        "    print('Variables are Independent (Not Correlated)/ H0 Accepted')"
      ],
      "execution_count": null,
      "outputs": [
        {
          "output_type": "stream",
          "text": [
            "stat=-0.130079, p=0.000039\n",
            "Variables are Dependent (Correlated)/ H0 Rejected\n"
          ],
          "name": "stdout"
        }
      ]
    },
    {
      "cell_type": "code",
      "metadata": {
        "colab": {
          "base_uri": "https://localhost:8080/"
        },
        "id": "1MLSh37saOpE",
        "outputId": "f8a4afcf-c517-4662-f0cd-c74afbb0b8ba"
      },
      "source": [
        "# Example of the Kendall's Rank Correlation Test\n",
        "from scipy.stats import kendalltau\n",
        "stat, p = kendalltau(df.bloodpressure, df.glucose)\n",
        "\n",
        "print('stat=%.6f, p=%6f' % (stat, p))\n",
        "if p < 0.05:\n",
        "    print('Variables are Dependent (Correlated)/ H0 Rejected')    \n",
        "else:\n",
        "    print('Variables are Independent (Not Correlated)/ H0 Accepted')"
      ],
      "execution_count": null,
      "outputs": [
        {
          "output_type": "stream",
          "text": [
            "stat=-0.096423, p=0.000058\n",
            "Variables are Dependent (Correlated)/ H0 Rejected\n"
          ],
          "name": "stdout"
        }
      ]
    }
  ]
}